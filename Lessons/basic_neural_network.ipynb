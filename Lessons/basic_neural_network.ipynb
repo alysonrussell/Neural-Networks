{
 "cells": [
  {
   "cell_type": "code",
   "execution_count": 1,
   "metadata": {},
   "outputs": [],
   "source": [
    "# Import our dependencies\n",
    "import pandas as pd\n",
    "import matplotlib as plt\n",
    "from sklearn.datasets import make_blobs\n",
    "import sklearn as skl\n",
    "import tensorflow as tf"
   ]
  },
  {
   "cell_type": "code",
   "execution_count": 2,
   "metadata": {},
   "outputs": [
    {
     "data": {
      "text/plain": [
       "<matplotlib.axes._subplots.AxesSubplot at 0x1a47825128>"
      ]
     },
     "execution_count": 2,
     "metadata": {},
     "output_type": "execute_result"
    },
    {
     "data": {
      "image/png": "[encoded data removed]",
      "text/plain": [
       "<Figure size 432x288 with 2 Axes>"
      ]
     },
     "metadata": {
      "needs_background": "light"
     },
     "output_type": "display_data"
    }
   ],
   "source": [
    "# Generate dummy dataset\n",
    "X, y = make_blobs(n_samples=1000, centers=2, n_features=2, random_state=78)\n",
    "\n",
    "# Creating a DataFrame with the dummy data\n",
    "df = pd.DataFrame(X, columns=[\"Feature 1\", \"Feature 2\"])\n",
    "df[\"Target\"] = y\n",
    "\n",
    "# Plotting the dummy data\n",
    "df.plot.scatter(x=\"Feature 1\", y=\"Feature 2\", c=\"Target\", colormap=\"winter\")"
   ]
  },
  {
   "cell_type": "code",
   "execution_count": 3,
   "metadata": {},
   "outputs": [],
   "source": [
    "# Use sklearn to split dataset\n",
    "from sklearn.model_selection import train_test_split\n",
    "X_train, X_test, y_train, y_test = train_test_split(X, y, random_state=78)"
   ]
  },
  {
   "cell_type": "code",
   "execution_count": 4,
   "metadata": {},
   "outputs": [],
   "source": [
    "# Create scaler instance\n",
    "X_scaler = skl.preprocessing.StandardScaler()\n",
    "\n",
    "# Fit the scaler\n",
    "X_scaler.fit(X_train)\n",
    "\n",
    "# Scale the data\n",
    "X_train_scaled = X_scaler.transform(X_train)\n",
    "X_test_scaled = X_scaler.transform(X_test)"
   ]
  },
  {
   "cell_type": "code",
   "execution_count": 5,
   "metadata": {},
   "outputs": [],
   "source": [
    "# Create the Keras Sequential model\n",
    "nn_model = tf.keras.models.Sequential()"
   ]
  },
  {
   "cell_type": "code",
   "execution_count": 6,
   "metadata": {},
   "outputs": [],
   "source": [
    "# Add our first Dense layer, including the input layer\n",
    "nn_model.add(tf.keras.layers.Dense(units=1, activation=\"relu\", input_dim=2))"
   ]
  },
  {
   "cell_type": "code",
   "execution_count": 7,
   "metadata": {},
   "outputs": [],
   "source": [
    "# Add the output layer that uses a probability activation function\n",
    "nn_model.add(tf.keras.layers.Dense(units=1, activation=\"sigmoid\"))"
   ]
  },
  {
   "cell_type": "code",
   "execution_count": 8,
   "metadata": {},
   "outputs": [
    {
     "name": "stdout",
     "output_type": "stream",
     "text": [
      "Model: \"sequential\"\n",
      "_________________________________________________________________\n",
      "Layer (type)                 Output Shape              Param #   \n",
      "=================================================================\n",
      "dense (Dense)                (None, 1)                 3         \n",
      "_________________________________________________________________\n",
      "dense_1 (Dense)              (None, 1)                 2         \n",
      "=================================================================\n",
      "Total params: 5\n",
      "Trainable params: 5\n",
      "Non-trainable params: 0\n",
      "_________________________________________________________________\n"
     ]
    }
   ],
   "source": [
    "# Check the structure of the Sequential model\n",
    "nn_model.summary()"
   ]
  },
  {
   "cell_type": "code",
   "execution_count": 9,
   "metadata": {},
   "outputs": [],
   "source": [
    "# Compile the Sequential model together and customize metrics\n",
    "nn_model.compile(loss=\"binary_crossentropy\", optimizer=\"adam\", metrics=[\"accuracy\"])"
   ]
  },
  {
   "cell_type": "code",
   "execution_count": 10,
   "metadata": {},
   "outputs": [
    {
     "name": "stdout",
     "output_type": "stream",
     "text": [
      "Train on 750 samples\n",
      "Epoch 1/100\n",
      "750/750 [==============================] - 3s 4ms/sample - loss: 1.0995 - accuracy: 0.1280\n",
      "Epoch 2/100\n",
      "750/750 [==============================] - 0s 143us/sample - loss: 1.0626 - accuracy: 0.1147\n",
      "Epoch 3/100\n",
      "750/750 [==============================] - 0s 138us/sample - loss: 1.0281 - accuracy: 0.1213\n",
      "Epoch 4/100\n",
      "750/750 [==============================] - 0s 128us/sample - loss: 0.9960 - accuracy: 0.1293\n",
      "Epoch 5/100\n",
      "750/750 [==============================] - 0s 120us/sample - loss: 0.9670 - accuracy: 0.1333\n",
      "Epoch 6/100\n",
      "750/750 [==============================] - 0s 154us/sample - loss: 0.9407 - accuracy: 0.1427\n",
      "Epoch 7/100\n",
      "750/750 [==============================] - 0s 215us/sample - loss: 0.9162 - accuracy: 0.1533\n",
      "Epoch 8/100\n",
      "750/750 [==============================] - 0s 186us/sample - loss: 0.8947 - accuracy: 0.1613\n",
      "Epoch 9/100\n",
      "750/750 [==============================] - 0s 131us/sample - loss: 0.8749 - accuracy: 0.1773\n",
      "Epoch 10/100\n",
      "750/750 [==============================] - 0s 133us/sample - loss: 0.8572 - accuracy: 0.1880\n",
      "Epoch 11/100\n",
      "750/750 [==============================] - 0s 137us/sample - loss: 0.8410 - accuracy: 0.2027\n",
      "Epoch 12/100\n",
      "750/750 [==============================] - 0s 114us/sample - loss: 0.8267 - accuracy: 0.2120\n",
      "Epoch 13/100\n",
      "750/750 [==============================] - 0s 131us/sample - loss: 0.8137 - accuracy: 0.2227\n",
      "Epoch 14/100\n",
      "750/750 [==============================] - 0s 230us/sample - loss: 0.8020 - accuracy: 0.2293\n",
      "Epoch 15/100\n",
      "750/750 [==============================] - 0s 168us/sample - loss: 0.7910 - accuracy: 0.2387\n",
      "Epoch 16/100\n",
      "750/750 [==============================] - 0s 143us/sample - loss: 0.7813 - accuracy: 0.2480\n",
      "Epoch 17/100\n",
      "750/750 [==============================] - 0s 135us/sample - loss: 0.7723 - accuracy: 0.2627\n",
      "Epoch 18/100\n",
      "750/750 [==============================] - 0s 120us/sample - loss: 0.7639 - accuracy: 0.2800\n",
      "Epoch 19/100\n",
      "750/750 [==============================] - 0s 144us/sample - loss: 0.7564 - accuracy: 0.2880\n",
      "Epoch 20/100\n",
      "750/750 [==============================] - 0s 140us/sample - loss: 0.7495 - accuracy: 0.2973\n",
      "Epoch 21/100\n",
      "750/750 [==============================] - 0s 133us/sample - loss: 0.7431 - accuracy: 0.3213\n",
      "Epoch 22/100\n",
      "750/750 [==============================] - 0s 138us/sample - loss: 0.7376 - accuracy: 0.3387\n",
      "Epoch 23/100\n",
      "750/750 [==============================] - 0s 137us/sample - loss: 0.7324 - accuracy: 0.3507\n",
      "Epoch 24/100\n",
      "750/750 [==============================] - 0s 129us/sample - loss: 0.7278 - accuracy: 0.3640\n",
      "Epoch 25/100\n",
      "750/750 [==============================] - 0s 145us/sample - loss: 0.7237 - accuracy: 0.3760\n",
      "Epoch 26/100\n",
      "750/750 [==============================] - 0s 135us/sample - loss: 0.7202 - accuracy: 0.3920\n",
      "Epoch 27/100\n",
      "750/750 [==============================] - 0s 136us/sample - loss: 0.7171 - accuracy: 0.4000\n",
      "Epoch 28/100\n",
      "750/750 [==============================] - ETA: 0s - loss: 0.7132 - accuracy: 0.41 - 0s 133us/sample - loss: 0.7143 - accuracy: 0.4040\n",
      "Epoch 29/100\n",
      "750/750 [==============================] - 0s 135us/sample - loss: 0.7120 - accuracy: 0.4107\n",
      "Epoch 30/100\n",
      "750/750 [==============================] - 0s 124us/sample - loss: 0.7098 - accuracy: 0.4173\n",
      "Epoch 31/100\n",
      "750/750 [==============================] - 0s 144us/sample - loss: 0.7079 - accuracy: 0.4227\n",
      "Epoch 32/100\n",
      "750/750 [==============================] - 0s 126us/sample - loss: 0.7062 - accuracy: 0.4253\n",
      "Epoch 33/100\n",
      "750/750 [==============================] - 0s 130us/sample - loss: 0.7047 - accuracy: 0.4360\n",
      "Epoch 34/100\n",
      "750/750 [==============================] - 0s 141us/sample - loss: 0.7031 - accuracy: 0.4400\n",
      "Epoch 35/100\n",
      "750/750 [==============================] - 0s 141us/sample - loss: 0.7018 - accuracy: 0.4427\n",
      "Epoch 36/100\n",
      "750/750 [==============================] - 0s 131us/sample - loss: 0.7005 - accuracy: 0.4507\n",
      "Epoch 37/100\n",
      "750/750 [==============================] - 0s 138us/sample - loss: 0.6993 - accuracy: 0.4600\n",
      "Epoch 38/100\n",
      "750/750 [==============================] - 0s 133us/sample - loss: 0.6983 - accuracy: 0.4653\n",
      "Epoch 39/100\n",
      "750/750 [==============================] - 0s 127us/sample - loss: 0.6974 - accuracy: 0.4693\n",
      "Epoch 40/100\n",
      "750/750 [==============================] - 0s 153us/sample - loss: 0.6965 - accuracy: 0.4773\n",
      "Epoch 41/100\n",
      "750/750 [==============================] - 0s 141us/sample - loss: 0.6957 - accuracy: 0.4840\n",
      "Epoch 42/100\n",
      "750/750 [==============================] - 0s 122us/sample - loss: 0.6950 - accuracy: 0.4867\n",
      "Epoch 43/100\n",
      "750/750 [==============================] - 0s 137us/sample - loss: 0.6944 - accuracy: 0.4920\n",
      "Epoch 44/100\n",
      "750/750 [==============================] - 0s 148us/sample - loss: 0.6938 - accuracy: 0.4987\n",
      "Epoch 45/100\n",
      "750/750 [==============================] - 0s 138us/sample - loss: 0.6933 - accuracy: 0.5013\n",
      "Epoch 46/100\n",
      "750/750 [==============================] - 0s 190us/sample - loss: 0.6928 - accuracy: 0.5040\n",
      "Epoch 47/100\n",
      "750/750 [==============================] - 0s 145us/sample - loss: 0.6923 - accuracy: 0.5107\n",
      "Epoch 48/100\n",
      "750/750 [==============================] - 0s 130us/sample - loss: 0.6919 - accuracy: 0.5187\n",
      "Epoch 49/100\n",
      "750/750 [==============================] - 0s 134us/sample - loss: 0.6914 - accuracy: 0.5253\n",
      "Epoch 50/100\n",
      "750/750 [==============================] - 0s 144us/sample - loss: 0.6910 - accuracy: 0.5280\n",
      "Epoch 51/100\n",
      "750/750 [==============================] - 0s 161us/sample - loss: 0.6906 - accuracy: 0.5307\n",
      "Epoch 52/100\n",
      "750/750 [==============================] - 0s 178us/sample - loss: 0.6901 - accuracy: 0.5347\n",
      "Epoch 53/100\n",
      "750/750 [==============================] - 0s 158us/sample - loss: 0.6897 - accuracy: 0.5400\n",
      "Epoch 54/100\n",
      "750/750 [==============================] - 0s 138us/sample - loss: 0.6892 - accuracy: 0.5453\n",
      "Epoch 55/100\n",
      "750/750 [==============================] - 0s 158us/sample - loss: 0.6886 - accuracy: 0.5520\n",
      "Epoch 56/100\n",
      "750/750 [==============================] - 0s 131us/sample - loss: 0.6880 - accuracy: 0.5653\n",
      "Epoch 57/100\n",
      "750/750 [==============================] - 0s 124us/sample - loss: 0.6872 - accuracy: 0.5773\n",
      "Epoch 58/100\n",
      "750/750 [==============================] - 0s 128us/sample - loss: 0.6863 - accuracy: 0.5880\n",
      "Epoch 59/100\n",
      "750/750 [==============================] - 0s 141us/sample - loss: 0.6853 - accuracy: 0.6027\n",
      "Epoch 60/100\n",
      "750/750 [==============================] - 0s 152us/sample - loss: 0.6840 - accuracy: 0.6160\n",
      "Epoch 61/100\n",
      "750/750 [==============================] - 0s 239us/sample - loss: 0.6826 - accuracy: 0.6293\n",
      "Epoch 62/100\n",
      "750/750 [==============================] - 0s 167us/sample - loss: 0.6809 - accuracy: 0.6427\n",
      "Epoch 63/100\n",
      "750/750 [==============================] - 0s 168us/sample - loss: 0.6788 - accuracy: 0.6613\n",
      "Epoch 64/100\n",
      "750/750 [==============================] - 0s 141us/sample - loss: 0.6764 - accuracy: 0.6760\n",
      "Epoch 65/100\n",
      "750/750 [==============================] - 0s 126us/sample - loss: 0.6735 - accuracy: 0.7000\n",
      "Epoch 66/100\n",
      "750/750 [==============================] - 0s 140us/sample - loss: 0.6698 - accuracy: 0.7187\n",
      "Epoch 67/100\n",
      "750/750 [==============================] - 0s 157us/sample - loss: 0.6653 - accuracy: 0.7467\n",
      "Epoch 68/100\n",
      "750/750 [==============================] - 0s 124us/sample - loss: 0.6596 - accuracy: 0.7760\n",
      "Epoch 69/100\n",
      "750/750 [==============================] - 0s 123us/sample - loss: 0.6524 - accuracy: 0.8147\n",
      "Epoch 70/100\n",
      "750/750 [==============================] - 0s 128us/sample - loss: 0.6431 - accuracy: 0.8467\n",
      "Epoch 71/100\n",
      "750/750 [==============================] - 0s 134us/sample - loss: 0.6311 - accuracy: 0.8893\n",
      "Epoch 72/100\n",
      "750/750 [==============================] - 0s 133us/sample - loss: 0.6159 - accuracy: 0.9387\n",
      "Epoch 73/100\n",
      "750/750 [==============================] - 0s 129us/sample - loss: 0.5980 - accuracy: 0.9653\n",
      "Epoch 74/100\n",
      "750/750 [==============================] - 0s 132us/sample - loss: 0.5783 - accuracy: 0.9840\n",
      "Epoch 75/100\n",
      "750/750 [==============================] - 0s 155us/sample - loss: 0.5577 - accuracy: 0.9960\n",
      "Epoch 76/100\n",
      "750/750 [==============================] - 0s 119us/sample - loss: 0.5370 - accuracy: 1.0000\n",
      "Epoch 77/100\n"
     ]
    },
    {
     "name": "stdout",
     "output_type": "stream",
     "text": [
      "750/750 [==============================] - 0s 135us/sample - loss: 0.5167 - accuracy: 1.0000\n",
      "Epoch 78/100\n",
      "750/750 [==============================] - 0s 125us/sample - loss: 0.4971 - accuracy: 1.0000\n",
      "Epoch 79/100\n",
      "750/750 [==============================] - 0s 121us/sample - loss: 0.4781 - accuracy: 1.0000\n",
      "Epoch 80/100\n",
      "750/750 [==============================] - 0s 120us/sample - loss: 0.4597 - accuracy: 1.0000\n",
      "Epoch 81/100\n",
      "750/750 [==============================] - 0s 130us/sample - loss: 0.4422 - accuracy: 1.0000\n",
      "Epoch 82/100\n",
      "750/750 [==============================] - 0s 153us/sample - loss: 0.4255 - accuracy: 1.0000\n",
      "Epoch 83/100\n",
      "750/750 [==============================] - 0s 116us/sample - loss: 0.4095 - accuracy: 1.0000\n",
      "Epoch 84/100\n",
      "750/750 [==============================] - 0s 127us/sample - loss: 0.3943 - accuracy: 1.0000\n",
      "Epoch 85/100\n",
      "750/750 [==============================] - 0s 145us/sample - loss: 0.3799 - accuracy: 1.0000\n",
      "Epoch 86/100\n",
      "750/750 [==============================] - 0s 144us/sample - loss: 0.3662 - accuracy: 1.0000\n",
      "Epoch 87/100\n",
      "750/750 [==============================] - 0s 114us/sample - loss: 0.3533 - accuracy: 1.0000\n",
      "Epoch 88/100\n",
      "750/750 [==============================] - 0s 158us/sample - loss: 0.3411 - accuracy: 1.0000\n",
      "Epoch 89/100\n",
      "750/750 [==============================] - 0s 261us/sample - loss: 0.3295 - accuracy: 1.0000\n",
      "Epoch 90/100\n",
      "750/750 [==============================] - 0s 168us/sample - loss: 0.3186 - accuracy: 1.0000\n",
      "Epoch 91/100\n",
      "750/750 [==============================] - 0s 135us/sample - loss: 0.3083 - accuracy: 1.0000\n",
      "Epoch 92/100\n",
      "750/750 [==============================] - 0s 121us/sample - loss: 0.2985 - accuracy: 1.0000\n",
      "Epoch 93/100\n",
      "750/750 [==============================] - 0s 111us/sample - loss: 0.2892 - accuracy: 1.0000\n",
      "Epoch 94/100\n",
      "750/750 [==============================] - 0s 115us/sample - loss: 0.2804 - accuracy: 1.0000\n",
      "Epoch 95/100\n",
      "750/750 [==============================] - 0s 115us/sample - loss: 0.2720 - accuracy: 1.0000\n",
      "Epoch 96/100\n",
      "750/750 [==============================] - 0s 115us/sample - loss: 0.2641 - accuracy: 1.0000\n",
      "Epoch 97/100\n",
      "750/750 [==============================] - 0s 122us/sample - loss: 0.2565 - accuracy: 1.0000\n",
      "Epoch 98/100\n",
      "750/750 [==============================] - 0s 110us/sample - loss: 0.2492 - accuracy: 1.0000\n",
      "Epoch 99/100\n",
      "750/750 [==============================] - 0s 115us/sample - loss: 0.2424 - accuracy: 1.0000\n",
      "Epoch 100/100\n",
      "750/750 [==============================] - 0s 129us/sample - loss: 0.2358 - accuracy: 1.0000\n"
     ]
    }
   ],
   "source": [
    "# Fit the model to the training data\n",
    "fit_model = nn_model.fit(X_train_scaled, y_train, epochs=100)"
   ]
  },
  {
   "cell_type": "code",
   "execution_count": 11,
   "metadata": {},
   "outputs": [
    {
     "data": {
      "text/plain": [
       "<matplotlib.axes._subplots.AxesSubplot at 0x1a48996550>"
      ]
     },
     "execution_count": 11,
     "metadata": {},
     "output_type": "execute_result"
    },
    {
     "data": {
      "image/png": "[encoded data removed]",
      "text/plain": [
       "<Figure size 432x288 with 1 Axes>"
      ]
     },
     "metadata": {
      "needs_background": "light"
     },
     "output_type": "display_data"
    }
   ],
   "source": [
    "# Create a DataFrame containing training history\n",
    "history_df = pd.DataFrame(fit_model.history, index=range(1,len(fit_model.history[\"loss\"])+1))\n",
    "\n",
    "# Plot the loss\n",
    "history_df.plot(y=\"loss\")"
   ]
  },
  {
   "cell_type": "code",
   "execution_count": 12,
   "metadata": {},
   "outputs": [
    {
     "data": {
      "text/plain": [
       "<matplotlib.axes._subplots.AxesSubplot at 0x1a48ec76d8>"
      ]
     },
     "execution_count": 12,
     "metadata": {},
     "output_type": "execute_result"
    },
    {
     "data": {
      "image/png": "[encoded data removed]",
      "text/plain": [
       "<Figure size 432x288 with 1 Axes>"
      ]
     },
     "metadata": {
      "needs_background": "light"
     },
     "output_type": "display_data"
    }
   ],
   "source": [
    "# Plot the accuracy\n",
    "history_df.plot(y=\"accuracy\")"
   ]
  },
  {
   "cell_type": "code",
   "execution_count": 13,
   "metadata": {},
   "outputs": [
    {
     "name": "stdout",
     "output_type": "stream",
     "text": [
      "250/1 - 0s - loss: 0.2130 - accuracy: 1.0000\n",
      "Loss: 0.2386255930662155, Accuracy: 1.0\n"
     ]
    }
   ],
   "source": [
    "# Evaluate the model using the test data\n",
    "model_loss, model_accuracy = nn_model.evaluate(X_test_scaled,y_test,verbose=2)\n",
    "print(f\"Loss: {model_loss}, Accuracy: {model_accuracy}\")"
   ]
  },
  {
   "cell_type": "code",
   "execution_count": 14,
   "metadata": {},
   "outputs": [
    {
     "data": {
      "text/plain": [
       "array([[0],\n",
       "       [1],\n",
       "       [0],\n",
       "       [1],\n",
       "       [0],\n",
       "       [0],\n",
       "       [1],\n",
       "       [1],\n",
       "       [1],\n",
       "       [0]], dtype=int32)"
      ]
     },
     "execution_count": 14,
     "metadata": {},
     "output_type": "execute_result"
    }
   ],
   "source": [
    "# Predict the classification of a new set of blob data\n",
    "new_X, new_Y = make_blobs(n_samples=10, centers=2, n_features=2, random_state=78)\n",
    "new_X_scaled = X_scaler.transform(new_X)\n",
    "nn_model.predict_classes(new_X_scaled)"
   ]
  },
  {
   "cell_type": "code",
   "execution_count": 15,
   "metadata": {},
   "outputs": [
    {
     "data": {
      "text/plain": [
       "<matplotlib.axes._subplots.AxesSubplot at 0x1a4925f6d8>"
      ]
     },
     "execution_count": 15,
     "metadata": {},
     "output_type": "execute_result"
    },
    {
     "data": {
      "image/png": "[encoded data removed]",
      "text/plain": [
       "<Figure size 432x288 with 2 Axes>"
      ]
     },
     "metadata": {
      "needs_background": "light"
     },
     "output_type": "display_data"
    }
   ],
   "source": [
    "from sklearn.datasets import make_moons\n",
    "\n",
    "# Creating dummy nonlinear data\n",
    "X_moons, y_moons = make_moons(n_samples=1000, noise=0.08, random_state=78)\n",
    "\n",
    "# Transforming y_moons to a vertical vector\n",
    "y_moons = y_moons.reshape(-1, 1)\n",
    "\n",
    "# Creating a DataFrame to plot the nonlinear dummy data\n",
    "df_moons = pd.DataFrame(X_moons, columns=[\"Feature 1\", \"Feature 2\"])\n",
    "df_moons[\"Target\"] = y_moons\n",
    "\n",
    "# Plot the nonlinear dummy data\n",
    "df_moons.plot.scatter(x=\"Feature 1\",y=\"Feature 2\", c=\"Target\",colormap=\"winter\")"
   ]
  },
  {
   "cell_type": "code",
   "execution_count": 16,
   "metadata": {},
   "outputs": [],
   "source": [
    "# Create training and testing sets\n",
    "X_moon_train, X_moon_test, y_moon_train, y_moon_test = train_test_split(\n",
    "    X_moons, y_moons, random_state=78\n",
    ")\n",
    "\n",
    "# Create the scaler instance\n",
    "X_moon_scaler = skl.preprocessing.StandardScaler()\n",
    "\n",
    "# Fit the scaler\n",
    "X_moon_scaler.fit(X_moon_train)\n",
    "\n",
    "# Scale the data\n",
    "X_moon_train_scaled = X_moon_scaler.transform(X_moon_train)\n",
    "X_moon_test_scaled = X_moon_scaler.transform(X_moon_test)"
   ]
  },
  {
   "cell_type": "code",
   "execution_count": 17,
   "metadata": {},
   "outputs": [
    {
     "name": "stdout",
     "output_type": "stream",
     "text": [
      "Train on 750 samples\n",
      "Epoch 1/100\n",
      "750/750 [==============================] - 0s 244us/sample - loss: 0.5971 - accuracy: 0.6453\n",
      "Epoch 2/100\n",
      "750/750 [==============================] - 0s 129us/sample - loss: 0.5767 - accuracy: 0.6587\n",
      "Epoch 3/100\n",
      "750/750 [==============================] - 0s 122us/sample - loss: 0.5566 - accuracy: 0.6733\n",
      "Epoch 4/100\n",
      "750/750 [==============================] - 0s 173us/sample - loss: 0.5406 - accuracy: 0.6893\n",
      "Epoch 5/100\n",
      "750/750 [==============================] - 0s 341us/sample - loss: 0.5272 - accuracy: 0.7027\n",
      "Epoch 6/100\n",
      "750/750 [==============================] - 0s 160us/sample - loss: 0.5161 - accuracy: 0.7133\n",
      "Epoch 7/100\n",
      "750/750 [==============================] - 0s 188us/sample - loss: 0.5065 - accuracy: 0.7213\n",
      "Epoch 8/100\n",
      "750/750 [==============================] - 0s 187us/sample - loss: 0.4978 - accuracy: 0.7320\n",
      "Epoch 9/100\n",
      "750/750 [==============================] - 0s 168us/sample - loss: 0.4898 - accuracy: 0.7373\n",
      "Epoch 10/100\n",
      "750/750 [==============================] - 0s 147us/sample - loss: 0.4827 - accuracy: 0.7413\n",
      "Epoch 11/100\n",
      "750/750 [==============================] - 0s 133us/sample - loss: 0.4762 - accuracy: 0.7480\n",
      "Epoch 12/100\n",
      "750/750 [==============================] - 0s 155us/sample - loss: 0.4701 - accuracy: 0.7520\n",
      "Epoch 13/100\n",
      "750/750 [==============================] - 0s 283us/sample - loss: 0.4643 - accuracy: 0.7533\n",
      "Epoch 14/100\n",
      "750/750 [==============================] - 0s 296us/sample - loss: 0.4589 - accuracy: 0.7587\n",
      "Epoch 15/100\n",
      "750/750 [==============================] - 0s 270us/sample - loss: 0.4536 - accuracy: 0.7613\n",
      "Epoch 16/100\n",
      "750/750 [==============================] - 0s 261us/sample - loss: 0.4487 - accuracy: 0.7693\n",
      "Epoch 17/100\n",
      "750/750 [==============================] - 0s 208us/sample - loss: 0.4439 - accuracy: 0.7760\n",
      "Epoch 18/100\n",
      "750/750 [==============================] - 0s 198us/sample - loss: 0.4392 - accuracy: 0.7760\n",
      "Epoch 19/100\n",
      "750/750 [==============================] - 0s 149us/sample - loss: 0.4348 - accuracy: 0.7800\n",
      "Epoch 20/100\n",
      "750/750 [==============================] - 0s 159us/sample - loss: 0.4304 - accuracy: 0.7867\n",
      "Epoch 21/100\n",
      "750/750 [==============================] - 0s 242us/sample - loss: 0.4261 - accuracy: 0.7933\n",
      "Epoch 22/100\n",
      "750/750 [==============================] - 0s 192us/sample - loss: 0.4221 - accuracy: 0.7947\n",
      "Epoch 23/100\n",
      "750/750 [==============================] - 0s 154us/sample - loss: 0.4182 - accuracy: 0.8053\n",
      "Epoch 24/100\n",
      "750/750 [==============================] - 0s 153us/sample - loss: 0.4144 - accuracy: 0.8067\n",
      "Epoch 25/100\n",
      "750/750 [==============================] - 0s 178us/sample - loss: 0.4109 - accuracy: 0.8080\n",
      "Epoch 26/100\n",
      "750/750 [==============================] - 0s 156us/sample - loss: 0.4074 - accuracy: 0.8120\n",
      "Epoch 27/100\n",
      "750/750 [==============================] - 0s 182us/sample - loss: 0.4039 - accuracy: 0.8173\n",
      "Epoch 28/100\n",
      "750/750 [==============================] - 0s 151us/sample - loss: 0.4007 - accuracy: 0.8213\n",
      "Epoch 29/100\n",
      "750/750 [==============================] - 0s 136us/sample - loss: 0.3975 - accuracy: 0.8227\n",
      "Epoch 30/100\n",
      "750/750 [==============================] - 0s 130us/sample - loss: 0.3944 - accuracy: 0.8267\n",
      "Epoch 31/100\n",
      "750/750 [==============================] - 0s 127us/sample - loss: 0.3912 - accuracy: 0.8267\n",
      "Epoch 32/100\n",
      "750/750 [==============================] - 0s 143us/sample - loss: 0.3881 - accuracy: 0.8320\n",
      "Epoch 33/100\n",
      "750/750 [==============================] - 0s 151us/sample - loss: 0.3849 - accuracy: 0.8333\n",
      "Epoch 34/100\n",
      "750/750 [==============================] - 0s 160us/sample - loss: 0.3817 - accuracy: 0.8347\n",
      "Epoch 35/100\n",
      "750/750 [==============================] - 0s 153us/sample - loss: 0.3785 - accuracy: 0.8387\n",
      "Epoch 36/100\n",
      "750/750 [==============================] - 0s 123us/sample - loss: 0.3754 - accuracy: 0.8400\n",
      "Epoch 37/100\n",
      "750/750 [==============================] - 0s 171us/sample - loss: 0.3723 - accuracy: 0.8427\n",
      "Epoch 38/100\n",
      "750/750 [==============================] - 0s 136us/sample - loss: 0.3693 - accuracy: 0.8453\n",
      "Epoch 39/100\n",
      "750/750 [==============================] - 0s 143us/sample - loss: 0.3663 - accuracy: 0.8453\n",
      "Epoch 40/100\n",
      "750/750 [==============================] - 0s 140us/sample - loss: 0.3632 - accuracy: 0.8480\n",
      "Epoch 41/100\n",
      "750/750 [==============================] - 0s 145us/sample - loss: 0.3603 - accuracy: 0.8480\n",
      "Epoch 42/100\n",
      "750/750 [==============================] - 0s 182us/sample - loss: 0.3575 - accuracy: 0.8507\n",
      "Epoch 43/100\n",
      "750/750 [==============================] - 0s 190us/sample - loss: 0.3548 - accuracy: 0.8533\n",
      "Epoch 44/100\n",
      "750/750 [==============================] - 0s 177us/sample - loss: 0.3521 - accuracy: 0.8547\n",
      "Epoch 45/100\n",
      "750/750 [==============================] - 0s 182us/sample - loss: 0.3492 - accuracy: 0.8587\n",
      "Epoch 46/100\n",
      "750/750 [==============================] - 0s 190us/sample - loss: 0.3465 - accuracy: 0.8613\n",
      "Epoch 47/100\n",
      "750/750 [==============================] - 0s 198us/sample - loss: 0.3437 - accuracy: 0.8627\n",
      "Epoch 48/100\n",
      "750/750 [==============================] - 0s 185us/sample - loss: 0.3411 - accuracy: 0.8627\n",
      "Epoch 49/100\n",
      "750/750 [==============================] - 0s 184us/sample - loss: 0.3384 - accuracy: 0.8653\n",
      "Epoch 50/100\n",
      "750/750 [==============================] - 0s 144us/sample - loss: 0.3358 - accuracy: 0.8680\n",
      "Epoch 51/100\n",
      "750/750 [==============================] - 0s 125us/sample - loss: 0.3331 - accuracy: 0.8707\n",
      "Epoch 52/100\n",
      "750/750 [==============================] - 0s 138us/sample - loss: 0.3306 - accuracy: 0.8720\n",
      "Epoch 53/100\n",
      "750/750 [==============================] - 0s 307us/sample - loss: 0.3281 - accuracy: 0.8720\n",
      "Epoch 54/100\n",
      "750/750 [==============================] - 0s 183us/sample - loss: 0.3256 - accuracy: 0.8733\n",
      "Epoch 55/100\n",
      "750/750 [==============================] - 0s 189us/sample - loss: 0.3233 - accuracy: 0.8747\n",
      "Epoch 56/100\n",
      "750/750 [==============================] - 0s 132us/sample - loss: 0.3211 - accuracy: 0.8747\n",
      "Epoch 57/100\n",
      "750/750 [==============================] - 0s 149us/sample - loss: 0.3190 - accuracy: 0.8760\n",
      "Epoch 58/100\n",
      "750/750 [==============================] - 0s 129us/sample - loss: 0.3169 - accuracy: 0.8760\n",
      "Epoch 59/100\n",
      "750/750 [==============================] - 0s 145us/sample - loss: 0.3151 - accuracy: 0.8760\n",
      "Epoch 60/100\n",
      "750/750 [==============================] - 0s 132us/sample - loss: 0.3133 - accuracy: 0.8773\n",
      "Epoch 61/100\n",
      "750/750 [==============================] - 0s 144us/sample - loss: 0.3115 - accuracy: 0.8773\n",
      "Epoch 62/100\n",
      "750/750 [==============================] - 0s 134us/sample - loss: 0.3098 - accuracy: 0.8773\n",
      "Epoch 63/100\n",
      "750/750 [==============================] - 0s 136us/sample - loss: 0.3081 - accuracy: 0.8787\n",
      "Epoch 64/100\n",
      "750/750 [==============================] - 0s 134us/sample - loss: 0.3064 - accuracy: 0.8787\n",
      "Epoch 65/100\n",
      "750/750 [==============================] - 0s 140us/sample - loss: 0.3048 - accuracy: 0.8800\n",
      "Epoch 66/100\n",
      "750/750 [==============================] - 0s 131us/sample - loss: 0.3032 - accuracy: 0.8827\n",
      "Epoch 67/100\n",
      "750/750 [==============================] - 0s 131us/sample - loss: 0.3019 - accuracy: 0.8840\n",
      "Epoch 68/100\n",
      "750/750 [==============================] - 0s 122us/sample - loss: 0.3006 - accuracy: 0.8853\n",
      "Epoch 69/100\n",
      "750/750 [==============================] - 0s 138us/sample - loss: 0.2993 - accuracy: 0.8853\n",
      "Epoch 70/100\n",
      "750/750 [==============================] - 0s 175us/sample - loss: 0.2982 - accuracy: 0.8893\n",
      "Epoch 71/100\n",
      "750/750 [==============================] - 0s 170us/sample - loss: 0.2969 - accuracy: 0.8893\n",
      "Epoch 72/100\n",
      "750/750 [==============================] - 0s 150us/sample - loss: 0.2959 - accuracy: 0.8907\n",
      "Epoch 73/100\n",
      "750/750 [==============================] - 0s 168us/sample - loss: 0.2949 - accuracy: 0.8933\n",
      "Epoch 74/100\n",
      "750/750 [==============================] - 0s 195us/sample - loss: 0.2940 - accuracy: 0.8933\n",
      "Epoch 75/100\n",
      "750/750 [==============================] - 0s 186us/sample - loss: 0.2929 - accuracy: 0.8947\n",
      "Epoch 76/100\n",
      "750/750 [==============================] - 0s 187us/sample - loss: 0.2921 - accuracy: 0.8947\n",
      "Epoch 77/100\n",
      "750/750 [==============================] - 0s 145us/sample - loss: 0.2912 - accuracy: 0.8933\n",
      "Epoch 78/100\n"
     ]
    },
    {
     "name": "stdout",
     "output_type": "stream",
     "text": [
      "750/750 [==============================] - 0s 177us/sample - loss: 0.2903 - accuracy: 0.8933\n",
      "Epoch 79/100\n",
      "750/750 [==============================] - 0s 134us/sample - loss: 0.2897 - accuracy: 0.8920\n",
      "Epoch 80/100\n",
      "750/750 [==============================] - 0s 128us/sample - loss: 0.2888 - accuracy: 0.8920\n",
      "Epoch 81/100\n",
      "750/750 [==============================] - 0s 143us/sample - loss: 0.2882 - accuracy: 0.8920\n",
      "Epoch 82/100\n",
      "750/750 [==============================] - 0s 130us/sample - loss: 0.2875 - accuracy: 0.8920\n",
      "Epoch 83/100\n",
      "750/750 [==============================] - 0s 128us/sample - loss: 0.2869 - accuracy: 0.8920\n",
      "Epoch 84/100\n",
      "750/750 [==============================] - 0s 148us/sample - loss: 0.2863 - accuracy: 0.8920\n",
      "Epoch 85/100\n",
      "750/750 [==============================] - 0s 155us/sample - loss: 0.2857 - accuracy: 0.8920\n",
      "Epoch 86/100\n",
      "750/750 [==============================] - 0s 157us/sample - loss: 0.2851 - accuracy: 0.8920\n",
      "Epoch 87/100\n",
      "750/750 [==============================] - 0s 158us/sample - loss: 0.2846 - accuracy: 0.8920\n",
      "Epoch 88/100\n",
      "750/750 [==============================] - 0s 133us/sample - loss: 0.2841 - accuracy: 0.8920\n",
      "Epoch 89/100\n",
      "750/750 [==============================] - 0s 119us/sample - loss: 0.2836 - accuracy: 0.8920\n",
      "Epoch 90/100\n",
      "750/750 [==============================] - 0s 132us/sample - loss: 0.2830 - accuracy: 0.8920\n",
      "Epoch 91/100\n",
      "750/750 [==============================] - 0s 119us/sample - loss: 0.2825 - accuracy: 0.8933\n",
      "Epoch 92/100\n",
      "750/750 [==============================] - 0s 122us/sample - loss: 0.2821 - accuracy: 0.8933\n",
      "Epoch 93/100\n",
      "750/750 [==============================] - 0s 220us/sample - loss: 0.2816 - accuracy: 0.8933\n",
      "Epoch 94/100\n",
      "750/750 [==============================] - 0s 251us/sample - loss: 0.2812 - accuracy: 0.8933\n",
      "Epoch 95/100\n",
      "750/750 [==============================] - 0s 141us/sample - loss: 0.2808 - accuracy: 0.8933\n",
      "Epoch 96/100\n",
      "750/750 [==============================] - 0s 139us/sample - loss: 0.2805 - accuracy: 0.8933\n",
      "Epoch 97/100\n",
      "750/750 [==============================] - 0s 143us/sample - loss: 0.2799 - accuracy: 0.8933\n",
      "Epoch 98/100\n",
      "750/750 [==============================] - 0s 160us/sample - loss: 0.2796 - accuracy: 0.8933\n",
      "Epoch 99/100\n",
      "750/750 [==============================] - 0s 168us/sample - loss: 0.2791 - accuracy: 0.8933\n",
      "Epoch 100/100\n",
      "750/750 [==============================] - 0s 155us/sample - loss: 0.2787 - accuracy: 0.8933\n"
     ]
    }
   ],
   "source": [
    "# Training the model with the nonlinear data\n",
    "model_moon = nn_model.fit(X_moon_train_scaled, y_moon_train, epochs=100, shuffle=True)"
   ]
  },
  {
   "cell_type": "code",
   "execution_count": 18,
   "metadata": {},
   "outputs": [
    {
     "data": {
      "text/plain": [
       "<matplotlib.axes._subplots.AxesSubplot at 0x1a4933e2e8>"
      ]
     },
     "execution_count": 18,
     "metadata": {},
     "output_type": "execute_result"
    },
    {
     "data": {
      "image/png": "[encoded data removed]",
      "text/plain": [
       "<Figure size 432x288 with 1 Axes>"
      ]
     },
     "metadata": {
      "needs_background": "light"
     },
     "output_type": "display_data"
    }
   ],
   "source": [
    "# Create a DataFrame containing training history\n",
    "history_df = pd.DataFrame(model_moon.history, index=range(1,len(model_moon.history[\"loss\"])+1))\n",
    "\n",
    "# Plot the loss\n",
    "history_df.plot(y=\"loss\")"
   ]
  },
  {
   "cell_type": "code",
   "execution_count": 19,
   "metadata": {},
   "outputs": [
    {
     "data": {
      "text/plain": [
       "<matplotlib.axes._subplots.AxesSubplot at 0x1a4930eac8>"
      ]
     },
     "execution_count": 19,
     "metadata": {},
     "output_type": "execute_result"
    },
    {
     "data": {
      "image/png": "[encoded data removed]",
      "text/plain": [
       "<Figure size 432x288 with 1 Axes>"
      ]
     },
     "metadata": {
      "needs_background": "light"
     },
     "output_type": "display_data"
    }
   ],
   "source": [
    "# Plot the loss\n",
    "history_df.plot(y=\"accuracy\")"
   ]
  },
  {
   "cell_type": "code",
   "execution_count": 20,
   "metadata": {},
   "outputs": [],
   "source": [
    "# Generate our new Sequential model\n",
    "new_model = tf.keras.models.Sequential()"
   ]
  },
  {
   "cell_type": "code",
   "execution_count": 21,
   "metadata": {},
   "outputs": [],
   "source": [
    "# Add the input and hidden layer\n",
    "number_inputs = 2\n",
    "number_hidden_nodes = 6\n",
    "\n",
    "new_model.add(tf.keras.layers.Dense(units=number_hidden_nodes, activation=\"relu\", input_dim=number_inputs))\n",
    "\n",
    "# Add the output layer that uses a probability activation function\n",
    "new_model.add(tf.keras.layers.Dense(units=1, activation=\"sigmoid\"))"
   ]
  },
  {
   "cell_type": "code",
   "execution_count": 22,
   "metadata": {},
   "outputs": [
    {
     "name": "stdout",
     "output_type": "stream",
     "text": [
      "Train on 750 samples\n",
      "Epoch 1/100\n",
      "750/750 [==============================] - 2s 2ms/sample - loss: 0.6154 - accuracy: 0.6987\n",
      "Epoch 2/100\n",
      "750/750 [==============================] - 0s 133us/sample - loss: 0.5815 - accuracy: 0.7173\n",
      "Epoch 3/100\n",
      "750/750 [==============================] - 0s 150us/sample - loss: 0.5511 - accuracy: 0.7347\n",
      "Epoch 4/100\n",
      "750/750 [==============================] - 0s 194us/sample - loss: 0.5229 - accuracy: 0.7480\n",
      "Epoch 5/100\n",
      "750/750 [==============================] - 0s 140us/sample - loss: 0.4962 - accuracy: 0.7680\n",
      "Epoch 6/100\n",
      "750/750 [==============================] - 0s 140us/sample - loss: 0.4719 - accuracy: 0.7880\n",
      "Epoch 7/100\n",
      "750/750 [==============================] - 0s 142us/sample - loss: 0.4488 - accuracy: 0.8000\n",
      "Epoch 8/100\n",
      "750/750 [==============================] - 0s 125us/sample - loss: 0.4276 - accuracy: 0.8147\n",
      "Epoch 9/100\n",
      "750/750 [==============================] - 0s 139us/sample - loss: 0.4078 - accuracy: 0.8307\n",
      "Epoch 10/100\n",
      "750/750 [==============================] - 0s 122us/sample - loss: 0.3898 - accuracy: 0.8547\n",
      "Epoch 11/100\n",
      "750/750 [==============================] - 0s 146us/sample - loss: 0.3732 - accuracy: 0.8653\n",
      "Epoch 12/100\n",
      "750/750 [==============================] - 0s 134us/sample - loss: 0.3582 - accuracy: 0.8747\n",
      "Epoch 13/100\n",
      "750/750 [==============================] - 0s 144us/sample - loss: 0.3450 - accuracy: 0.8800\n",
      "Epoch 14/100\n",
      "750/750 [==============================] - 0s 139us/sample - loss: 0.3332 - accuracy: 0.8907\n",
      "Epoch 15/100\n",
      "750/750 [==============================] - 0s 134us/sample - loss: 0.3229 - accuracy: 0.8920\n",
      "Epoch 16/100\n",
      "750/750 [==============================] - 0s 126us/sample - loss: 0.3137 - accuracy: 0.8973\n",
      "Epoch 17/100\n",
      "750/750 [==============================] - 0s 122us/sample - loss: 0.3057 - accuracy: 0.8960\n",
      "Epoch 18/100\n",
      "750/750 [==============================] - 0s 126us/sample - loss: 0.2988 - accuracy: 0.8973\n",
      "Epoch 19/100\n",
      "750/750 [==============================] - 0s 137us/sample - loss: 0.2926 - accuracy: 0.8987\n",
      "Epoch 20/100\n",
      "750/750 [==============================] - 0s 163us/sample - loss: 0.2874 - accuracy: 0.8973\n",
      "Epoch 21/100\n",
      "750/750 [==============================] - 0s 128us/sample - loss: 0.2827 - accuracy: 0.8987\n",
      "Epoch 22/100\n",
      "750/750 [==============================] - 0s 138us/sample - loss: 0.2787 - accuracy: 0.8987\n",
      "Epoch 23/100\n",
      "750/750 [==============================] - 0s 155us/sample - loss: 0.2753 - accuracy: 0.9000\n",
      "Epoch 24/100\n",
      "750/750 [==============================] - 0s 134us/sample - loss: 0.2723 - accuracy: 0.8987\n",
      "Epoch 25/100\n",
      "750/750 [==============================] - 0s 134us/sample - loss: 0.2700 - accuracy: 0.8973\n",
      "Epoch 26/100\n",
      "750/750 [==============================] - 0s 137us/sample - loss: 0.2678 - accuracy: 0.8973\n",
      "Epoch 27/100\n",
      "750/750 [==============================] - 0s 134us/sample - loss: 0.2658 - accuracy: 0.8987\n",
      "Epoch 28/100\n",
      "750/750 [==============================] - 0s 116us/sample - loss: 0.2640 - accuracy: 0.8973\n",
      "Epoch 29/100\n",
      "750/750 [==============================] - 0s 143us/sample - loss: 0.2626 - accuracy: 0.8987\n",
      "Epoch 30/100\n",
      "750/750 [==============================] - 0s 129us/sample - loss: 0.2613 - accuracy: 0.9000\n",
      "Epoch 31/100\n",
      "750/750 [==============================] - 0s 135us/sample - loss: 0.2602 - accuracy: 0.9000\n",
      "Epoch 32/100\n",
      "750/750 [==============================] - 0s 133us/sample - loss: 0.2592 - accuracy: 0.9000\n",
      "Epoch 33/100\n",
      "750/750 [==============================] - 0s 146us/sample - loss: 0.2583 - accuracy: 0.9000\n",
      "Epoch 34/100\n",
      "750/750 [==============================] - 0s 134us/sample - loss: 0.2575 - accuracy: 0.9000\n",
      "Epoch 35/100\n",
      "750/750 [==============================] - 0s 130us/sample - loss: 0.2569 - accuracy: 0.9000\n",
      "Epoch 36/100\n",
      "750/750 [==============================] - 0s 135us/sample - loss: 0.2563 - accuracy: 0.9000\n",
      "Epoch 37/100\n",
      "750/750 [==============================] - 0s 129us/sample - loss: 0.2556 - accuracy: 0.9000\n",
      "Epoch 38/100\n",
      "750/750 [==============================] - 0s 156us/sample - loss: 0.2552 - accuracy: 0.8987\n",
      "Epoch 39/100\n",
      "750/750 [==============================] - 0s 135us/sample - loss: 0.2548 - accuracy: 0.8987\n",
      "Epoch 40/100\n",
      "750/750 [==============================] - 0s 140us/sample - loss: 0.2544 - accuracy: 0.9000\n",
      "Epoch 41/100\n",
      "750/750 [==============================] - 0s 143us/sample - loss: 0.2540 - accuracy: 0.8973\n",
      "Epoch 42/100\n",
      "750/750 [==============================] - 0s 188us/sample - loss: 0.2537 - accuracy: 0.8987\n",
      "Epoch 43/100\n",
      "750/750 [==============================] - 0s 144us/sample - loss: 0.2534 - accuracy: 0.8973\n",
      "Epoch 44/100\n",
      "750/750 [==============================] - 0s 149us/sample - loss: 0.2531 - accuracy: 0.8987\n",
      "Epoch 45/100\n",
      "750/750 [==============================] - 0s 194us/sample - loss: 0.2528 - accuracy: 0.8987\n",
      "Epoch 46/100\n",
      "750/750 [==============================] - 0s 158us/sample - loss: 0.2526 - accuracy: 0.8987\n",
      "Epoch 47/100\n",
      "750/750 [==============================] - 0s 168us/sample - loss: 0.2524 - accuracy: 0.8973\n",
      "Epoch 48/100\n",
      "750/750 [==============================] - 0s 154us/sample - loss: 0.2522 - accuracy: 0.9000\n",
      "Epoch 49/100\n",
      "750/750 [==============================] - 0s 122us/sample - loss: 0.2519 - accuracy: 0.9000\n",
      "Epoch 50/100\n",
      "750/750 [==============================] - 0s 172us/sample - loss: 0.2518 - accuracy: 0.8987\n",
      "Epoch 51/100\n",
      "750/750 [==============================] - 0s 179us/sample - loss: 0.2516 - accuracy: 0.8973\n",
      "Epoch 52/100\n",
      "750/750 [==============================] - 0s 185us/sample - loss: 0.2516 - accuracy: 0.8973\n",
      "Epoch 53/100\n",
      "750/750 [==============================] - 0s 150us/sample - loss: 0.2514 - accuracy: 0.8973\n",
      "Epoch 54/100\n",
      "750/750 [==============================] - 0s 194us/sample - loss: 0.2513 - accuracy: 0.8973\n",
      "Epoch 55/100\n",
      "750/750 [==============================] - 0s 147us/sample - loss: 0.2511 - accuracy: 0.8973\n",
      "Epoch 56/100\n",
      "750/750 [==============================] - 0s 128us/sample - loss: 0.2510 - accuracy: 0.8973\n",
      "Epoch 57/100\n",
      "750/750 [==============================] - 0s 278us/sample - loss: 0.2509 - accuracy: 0.8973\n",
      "Epoch 58/100\n",
      "750/750 [==============================] - 0s 209us/sample - loss: 0.2508 - accuracy: 0.8973\n",
      "Epoch 59/100\n",
      "750/750 [==============================] - 0s 270us/sample - loss: 0.2507 - accuracy: 0.8973\n",
      "Epoch 60/100\n",
      "750/750 [==============================] - 0s 179us/sample - loss: 0.2506 - accuracy: 0.8973\n",
      "Epoch 61/100\n",
      "750/750 [==============================] - 0s 145us/sample - loss: 0.2505 - accuracy: 0.8973\n",
      "Epoch 62/100\n",
      "750/750 [==============================] - 0s 150us/sample - loss: 0.2504 - accuracy: 0.8973\n",
      "Epoch 63/100\n",
      "750/750 [==============================] - 0s 119us/sample - loss: 0.2503 - accuracy: 0.8973\n",
      "Epoch 64/100\n",
      "750/750 [==============================] - 0s 169us/sample - loss: 0.2502 - accuracy: 0.8973\n",
      "Epoch 65/100\n",
      "750/750 [==============================] - 0s 205us/sample - loss: 0.2501 - accuracy: 0.8973\n",
      "Epoch 66/100\n",
      "750/750 [==============================] - 0s 131us/sample - loss: 0.2500 - accuracy: 0.8973\n",
      "Epoch 67/100\n",
      "750/750 [==============================] - 0s 129us/sample - loss: 0.2499 - accuracy: 0.8973\n",
      "Epoch 68/100\n",
      "750/750 [==============================] - 0s 162us/sample - loss: 0.2498 - accuracy: 0.8973\n",
      "Epoch 69/100\n",
      "750/750 [==============================] - 0s 168us/sample - loss: 0.2497 - accuracy: 0.8973\n",
      "Epoch 70/100\n",
      "750/750 [==============================] - 0s 146us/sample - loss: 0.2496 - accuracy: 0.8973\n",
      "Epoch 71/100\n",
      "750/750 [==============================] - 0s 112us/sample - loss: 0.2498 - accuracy: 0.8973\n",
      "Epoch 72/100\n",
      "750/750 [==============================] - 0s 174us/sample - loss: 0.2494 - accuracy: 0.8973\n",
      "Epoch 73/100\n",
      "750/750 [==============================] - 0s 244us/sample - loss: 0.2493 - accuracy: 0.8973\n",
      "Epoch 74/100\n",
      "750/750 [==============================] - 0s 129us/sample - loss: 0.2493 - accuracy: 0.8973 - loss: 0.2383 - accuracy: 0.90\n",
      "Epoch 75/100\n",
      "750/750 [==============================] - 0s 140us/sample - loss: 0.2491 - accuracy: 0.8973\n",
      "Epoch 76/100\n",
      "750/750 [==============================] - 0s 124us/sample - loss: 0.2491 - accuracy: 0.8973\n",
      "Epoch 77/100\n"
     ]
    },
    {
     "name": "stdout",
     "output_type": "stream",
     "text": [
      "750/750 [==============================] - 0s 134us/sample - loss: 0.2490 - accuracy: 0.8973\n",
      "Epoch 78/100\n",
      "750/750 [==============================] - 0s 166us/sample - loss: 0.2489 - accuracy: 0.8973\n",
      "Epoch 79/100\n",
      "750/750 [==============================] - 0s 223us/sample - loss: 0.2488 - accuracy: 0.8973\n",
      "Epoch 80/100\n",
      "750/750 [==============================] - 0s 108us/sample - loss: 0.2488 - accuracy: 0.8973\n",
      "Epoch 81/100\n",
      "750/750 [==============================] - 0s 141us/sample - loss: 0.2487 - accuracy: 0.8973\n",
      "Epoch 82/100\n",
      "750/750 [==============================] - 0s 191us/sample - loss: 0.2485 - accuracy: 0.8973\n",
      "Epoch 83/100\n",
      "750/750 [==============================] - 0s 187us/sample - loss: 0.2485 - accuracy: 0.8973\n",
      "Epoch 84/100\n",
      "750/750 [==============================] - 0s 118us/sample - loss: 0.2485 - accuracy: 0.8973\n",
      "Epoch 85/100\n",
      "750/750 [==============================] - 0s 139us/sample - loss: 0.2482 - accuracy: 0.8973\n",
      "Epoch 86/100\n",
      "750/750 [==============================] - 0s 120us/sample - loss: 0.2481 - accuracy: 0.8973\n",
      "Epoch 87/100\n",
      "750/750 [==============================] - 0s 181us/sample - loss: 0.2480 - accuracy: 0.8973\n",
      "Epoch 88/100\n",
      "750/750 [==============================] - 0s 130us/sample - loss: 0.2480 - accuracy: 0.8973\n",
      "Epoch 89/100\n",
      "750/750 [==============================] - 0s 121us/sample - loss: 0.2480 - accuracy: 0.8973\n",
      "Epoch 90/100\n",
      "750/750 [==============================] - 0s 129us/sample - loss: 0.2479 - accuracy: 0.8973\n",
      "Epoch 91/100\n",
      "750/750 [==============================] - 0s 158us/sample - loss: 0.2477 - accuracy: 0.8973\n",
      "Epoch 92/100\n",
      "750/750 [==============================] - 0s 187us/sample - loss: 0.2477 - accuracy: 0.8973\n",
      "Epoch 93/100\n",
      "750/750 [==============================] - 0s 134us/sample - loss: 0.2476 - accuracy: 0.8973\n",
      "Epoch 94/100\n",
      "750/750 [==============================] - 0s 127us/sample - loss: 0.2474 - accuracy: 0.8973\n",
      "Epoch 95/100\n",
      "750/750 [==============================] - 0s 155us/sample - loss: 0.2472 - accuracy: 0.8973\n",
      "Epoch 96/100\n",
      "750/750 [==============================] - 0s 160us/sample - loss: 0.2471 - accuracy: 0.8973\n",
      "Epoch 97/100\n",
      "750/750 [==============================] - 0s 140us/sample - loss: 0.2470 - accuracy: 0.8973\n",
      "Epoch 98/100\n",
      "750/750 [==============================] - 0s 165us/sample - loss: 0.2468 - accuracy: 0.8973\n",
      "Epoch 99/100\n",
      "750/750 [==============================] - 0s 203us/sample - loss: 0.2467 - accuracy: 0.8973\n",
      "Epoch 100/100\n",
      "750/750 [==============================] - 0s 130us/sample - loss: 0.2469 - accuracy: 0.8933\n"
     ]
    }
   ],
   "source": [
    "# Compile the Sequential model together and customize metrics\n",
    "new_model.compile(loss=\"binary_crossentropy\", optimizer=\"adam\", metrics=[\"accuracy\"])\n",
    "\n",
    "# Fit the model to the training data\n",
    "new_fit_model = new_model.fit(X_moon_train_scaled, y_moon_train, epochs=100, shuffle=True)"
   ]
  },
  {
   "cell_type": "code",
   "execution_count": null,
   "metadata": {},
   "outputs": [],
   "source": []
  }
 ],
 "metadata": {
  "kernelspec": {
   "display_name": "PythonData",
   "language": "python",
   "name": "pythondata"
  },
  "language_info": {
   "codemirror_mode": {
    "name": "ipython",
    "version": 3
   },
   "file_extension": ".py",
   "mimetype": "text/x-python",
   "name": "python",
   "nbconvert_exporter": "python",
   "pygments_lexer": "ipython3",
   "version": "3.6.9"
  }
 },
 "nbformat": 4,
 "nbformat_minor": 2
}
